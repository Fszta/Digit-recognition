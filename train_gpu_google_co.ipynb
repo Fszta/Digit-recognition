{
  "nbformat": 4,
  "nbformat_minor": 0,
  "metadata": {
    "colab": {
      "name": "Untitled0.ipynb",
      "version": "0.3.2",
      "provenance": [],
      "include_colab_link": true
    },
    "kernelspec": {
      "name": "python3",
      "display_name": "Python 3"
    },
    "accelerator": "GPU"
  },
  "cells": [
    {
      "cell_type": "markdown",
      "metadata": {
        "id": "view-in-github",
        "colab_type": "text"
      },
      "source": [
        "<a href=\"https://colab.research.google.com/github/Fszta/Digit-recognition/blob/master/train_gpu_google_co.ipynb\" target=\"_parent\"><img src=\"https://colab.research.google.com/assets/colab-badge.svg\" alt=\"Open In Colab\"/></a>"
      ]
    },
    {
      "metadata": {
        "id": "cbxH8H14kyAO",
        "colab_type": "code",
        "colab": {
          "base_uri": "https://localhost:8080/",
          "height": 119
        },
        "outputId": "c67792e5-239e-4c24-f36a-01df1a4e9f2a"
      },
      "cell_type": "code",
      "source": [
        "!git clone https://github.com/Fszta/Digit-recognition.git"
      ],
      "execution_count": 1,
      "outputs": [
        {
          "output_type": "stream",
          "text": [
            "Cloning into 'Digit-recognition'...\n",
            "remote: Enumerating objects: 37, done.\u001b[K\n",
            "remote: Counting objects: 100% (37/37), done.\u001b[K\n",
            "remote: Compressing objects: 100% (35/35), done.\u001b[K\n",
            "remote: Total 37 (delta 9), reused 5 (delta 0), pack-reused 0\u001b[K\n",
            "Unpacking objects: 100% (37/37), done.\n"
          ],
          "name": "stdout"
        }
      ]
    },
    {
      "metadata": {
        "id": "jQCZUUjflALv",
        "colab_type": "code",
        "colab": {
          "base_uri": "https://localhost:8080/",
          "height": 1329
        },
        "outputId": "1cf3bb8d-2c15-4993-f465-7031766eebc7"
      },
      "cell_type": "code",
      "source": [
        "!cd Digit-recognition/\n",
        "!pip install -r Digit-recognition/requirements.txt"
      ],
      "execution_count": 2,
      "outputs": [
        {
          "output_type": "stream",
          "text": [
            "Collecting h5py==2.9.0 (from -r Digit-recognition/requirements.txt (line 2))\n",
            "\u001b[?25l  Downloading https://files.pythonhosted.org/packages/30/99/d7d4fbf2d02bb30fb76179911a250074b55b852d34e98dd452a9f394ac06/h5py-2.9.0-cp36-cp36m-manylinux1_x86_64.whl (2.8MB)\n",
            "\u001b[K    100% |████████████████████████████████| 2.8MB 12.4MB/s \n",
            "\u001b[?25hRequirement already satisfied: Keras==2.2.4 in /usr/local/lib/python3.6/dist-packages (from -r Digit-recognition/requirements.txt (line 3)) (2.2.4)\n",
            "Requirement already satisfied: kiwisolver==1.0.1 in /usr/local/lib/python3.6/dist-packages (from -r Digit-recognition/requirements.txt (line 4)) (1.0.1)\n",
            "Requirement already satisfied: matplotlib==3.0.2 in /usr/local/lib/python3.6/dist-packages (from -r Digit-recognition/requirements.txt (line 6)) (3.0.2)\n",
            "Collecting numpy==1.15.4 (from -r Digit-recognition/requirements.txt (line 8))\n",
            "\u001b[?25l  Downloading https://files.pythonhosted.org/packages/ff/7f/9d804d2348471c67a7d8b5f84f9bc59fd1cefa148986f2b74552f8573555/numpy-1.15.4-cp36-cp36m-manylinux1_x86_64.whl (13.9MB)\n",
            "\u001b[K    100% |████████████████████████████████| 13.9MB 3.0MB/s \n",
            "\u001b[?25hCollecting opencv-python==4.0.0.21 (from -r Digit-recognition/requirements.txt (line 9))\n",
            "\u001b[?25l  Downloading https://files.pythonhosted.org/packages/37/49/874d119948a5a084a7ebe98308214098ef3471d76ab74200f9800efeef15/opencv_python-4.0.0.21-cp36-cp36m-manylinux1_x86_64.whl (25.4MB)\n",
            "\u001b[K    100% |████████████████████████████████| 25.4MB 1.2MB/s \n",
            "\u001b[?25hCollecting pandas==0.23.4 (from -r Digit-recognition/requirements.txt (line 10))\n",
            "\u001b[?25l  Downloading https://files.pythonhosted.org/packages/e1/d8/feeb346d41f181e83fba45224ab14a8d8af019b48af742e047f3845d8cff/pandas-0.23.4-cp36-cp36m-manylinux1_x86_64.whl (8.9MB)\n",
            "\u001b[K    100% |████████████████████████████████| 8.9MB 5.7MB/s \n",
            "\u001b[?25hCollecting Pillow==5.4.1 (from -r Digit-recognition/requirements.txt (line 12))\n",
            "\u001b[?25l  Downloading https://files.pythonhosted.org/packages/85/5e/e91792f198bbc5a0d7d3055ad552bc4062942d27eaf75c3e2783cf64eae5/Pillow-5.4.1-cp36-cp36m-manylinux1_x86_64.whl (2.0MB)\n",
            "\u001b[K    100% |████████████████████████████████| 2.0MB 13.3MB/s \n",
            "\u001b[?25hRequirement already satisfied: scikit-learn==0.20.2 in /usr/local/lib/python3.6/dist-packages (from -r Digit-recognition/requirements.txt (line 14)) (0.20.2)\n",
            "Collecting scipy==1.2.0 (from -r Digit-recognition/requirements.txt (line 15))\n",
            "\u001b[?25l  Downloading https://files.pythonhosted.org/packages/67/e6/6d4edaceee6a110ecf6f318482f5229792f143e468b34a631f5a0899f56d/scipy-1.2.0-cp36-cp36m-manylinux1_x86_64.whl (26.6MB)\n",
            "\u001b[K    100% |████████████████████████████████| 26.6MB 1.7MB/s \n",
            "\u001b[?25hCollecting seaborn==0.9.0 (from -r Digit-recognition/requirements.txt (line 16))\n",
            "\u001b[?25l  Downloading https://files.pythonhosted.org/packages/a8/76/220ba4420459d9c4c9c9587c6ce607bf56c25b3d3d2de62056efe482dadc/seaborn-0.9.0-py3-none-any.whl (208kB)\n",
            "\u001b[K    100% |████████████████████████████████| 215kB 26.6MB/s \n",
            "\u001b[?25hRequirement already satisfied: sklearn==0.0 in /usr/local/lib/python3.6/dist-packages (from -r Digit-recognition/requirements.txt (line 18)) (0.0)\n",
            "Requirement already satisfied: tensorflow==1.12.0 in /usr/local/lib/python3.6/dist-packages (from -r Digit-recognition/requirements.txt (line 19)) (1.12.0)\n",
            "Requirement already satisfied: six in /usr/local/lib/python3.6/dist-packages (from h5py==2.9.0->-r Digit-recognition/requirements.txt (line 2)) (1.11.0)\n",
            "Requirement already satisfied: keras-preprocessing>=1.0.5 in /usr/local/lib/python3.6/dist-packages (from Keras==2.2.4->-r Digit-recognition/requirements.txt (line 3)) (1.0.5)\n",
            "Requirement already satisfied: keras-applications>=1.0.6 in /usr/local/lib/python3.6/dist-packages (from Keras==2.2.4->-r Digit-recognition/requirements.txt (line 3)) (1.0.6)\n",
            "Requirement already satisfied: pyyaml in /usr/local/lib/python3.6/dist-packages (from Keras==2.2.4->-r Digit-recognition/requirements.txt (line 3)) (3.13)\n",
            "Requirement already satisfied: setuptools in /usr/local/lib/python3.6/dist-packages (from kiwisolver==1.0.1->-r Digit-recognition/requirements.txt (line 4)) (40.6.3)\n",
            "Requirement already satisfied: pyparsing!=2.0.4,!=2.1.2,!=2.1.6,>=2.0.1 in /usr/local/lib/python3.6/dist-packages (from matplotlib==3.0.2->-r Digit-recognition/requirements.txt (line 6)) (2.3.1)\n",
            "Requirement already satisfied: python-dateutil>=2.1 in /usr/local/lib/python3.6/dist-packages (from matplotlib==3.0.2->-r Digit-recognition/requirements.txt (line 6)) (2.5.3)\n",
            "Requirement already satisfied: cycler>=0.10 in /usr/local/lib/python3.6/dist-packages (from matplotlib==3.0.2->-r Digit-recognition/requirements.txt (line 6)) (0.10.0)\n",
            "Requirement already satisfied: pytz>=2011k in /usr/local/lib/python3.6/dist-packages (from pandas==0.23.4->-r Digit-recognition/requirements.txt (line 10)) (2018.9)\n",
            "Requirement already satisfied: absl-py>=0.1.6 in /usr/local/lib/python3.6/dist-packages (from tensorflow==1.12.0->-r Digit-recognition/requirements.txt (line 19)) (0.6.1)\n",
            "Requirement already satisfied: grpcio>=1.8.6 in /usr/local/lib/python3.6/dist-packages (from tensorflow==1.12.0->-r Digit-recognition/requirements.txt (line 19)) (1.15.0)\n",
            "Requirement already satisfied: tensorboard<1.13.0,>=1.12.0 in /usr/local/lib/python3.6/dist-packages (from tensorflow==1.12.0->-r Digit-recognition/requirements.txt (line 19)) (1.12.2)\n",
            "Requirement already satisfied: termcolor>=1.1.0 in /usr/local/lib/python3.6/dist-packages (from tensorflow==1.12.0->-r Digit-recognition/requirements.txt (line 19)) (1.1.0)\n",
            "Requirement already satisfied: gast>=0.2.0 in /usr/local/lib/python3.6/dist-packages (from tensorflow==1.12.0->-r Digit-recognition/requirements.txt (line 19)) (0.2.2)\n",
            "Requirement already satisfied: astor>=0.6.0 in /usr/local/lib/python3.6/dist-packages (from tensorflow==1.12.0->-r Digit-recognition/requirements.txt (line 19)) (0.7.1)\n",
            "Requirement already satisfied: protobuf>=3.6.1 in /usr/local/lib/python3.6/dist-packages (from tensorflow==1.12.0->-r Digit-recognition/requirements.txt (line 19)) (3.6.1)\n",
            "Requirement already satisfied: wheel>=0.26 in /usr/local/lib/python3.6/dist-packages (from tensorflow==1.12.0->-r Digit-recognition/requirements.txt (line 19)) (0.32.3)\n",
            "Requirement already satisfied: werkzeug>=0.11.10 in /usr/local/lib/python3.6/dist-packages (from tensorboard<1.13.0,>=1.12.0->tensorflow==1.12.0->-r Digit-recognition/requirements.txt (line 19)) (0.14.1)\n",
            "Requirement already satisfied: markdown>=2.6.8 in /usr/local/lib/python3.6/dist-packages (from tensorboard<1.13.0,>=1.12.0->tensorflow==1.12.0->-r Digit-recognition/requirements.txt (line 19)) (3.0.1)\n",
            "\u001b[31myellowbrick 0.9 has requirement matplotlib<3.0,>=1.5.1, but you'll have matplotlib 3.0.2 which is incompatible.\u001b[0m\n",
            "\u001b[31mthinc 6.12.1 has requirement wrapt<1.11.0,>=1.10.0, but you'll have wrapt 1.11.0 which is incompatible.\u001b[0m\n",
            "\u001b[31mpymc3 3.6 has requirement joblib<0.13.0, but you'll have joblib 0.13.1 which is incompatible.\u001b[0m\n",
            "\u001b[31mcufflinks 0.14.6 has requirement plotly>=3.0.0, but you'll have plotly 1.12.12 which is incompatible.\u001b[0m\n",
            "Installing collected packages: numpy, h5py, opencv-python, pandas, Pillow, scipy, seaborn\n",
            "  Found existing installation: numpy 1.14.6\n",
            "    Uninstalling numpy-1.14.6:\n",
            "      Successfully uninstalled numpy-1.14.6\n",
            "  Found existing installation: h5py 2.8.0\n",
            "    Uninstalling h5py-2.8.0:\n",
            "      Successfully uninstalled h5py-2.8.0\n",
            "  Found existing installation: opencv-python 3.4.5.20\n",
            "    Uninstalling opencv-python-3.4.5.20:\n",
            "      Successfully uninstalled opencv-python-3.4.5.20\n",
            "  Found existing installation: pandas 0.22.0\n",
            "    Uninstalling pandas-0.22.0:\n",
            "      Successfully uninstalled pandas-0.22.0\n",
            "  Found existing installation: Pillow 4.0.0\n",
            "    Uninstalling Pillow-4.0.0:\n",
            "      Successfully uninstalled Pillow-4.0.0\n",
            "  Found existing installation: scipy 1.1.0\n",
            "    Uninstalling scipy-1.1.0:\n",
            "      Successfully uninstalled scipy-1.1.0\n",
            "  Found existing installation: seaborn 0.7.1\n",
            "    Uninstalling seaborn-0.7.1:\n",
            "      Successfully uninstalled seaborn-0.7.1\n",
            "Successfully installed Pillow-5.4.1 h5py-2.9.0 numpy-1.15.4 opencv-python-4.0.0.21 pandas-0.23.4 scipy-1.2.0 seaborn-0.9.0\n",
            "\u001b[0;31;1mWARNING: The following packages were previously imported in this runtime:\n",
            "  [PIL, numpy, pandas, scipy, seaborn]\n",
            "You must restart the runtime in order to use newly installed versions.\u001b[0m\n"
          ],
          "name": "stdout"
        }
      ]
    },
    {
      "metadata": {
        "id": "begGKiBolEtt",
        "colab_type": "code",
        "colab": {
          "base_uri": "https://localhost:8080/",
          "height": 34
        },
        "outputId": "1ba3585c-1760-4e6f-815a-652b4cb1b6ad"
      },
      "cell_type": "code",
      "source": [
        "import numpy\n",
        "import seaborn as sns\n",
        "import matplotlib.pyplot as plt\n",
        "from keras.datasets import mnist\n",
        "from keras.models import Sequential\n",
        "from keras.layers import Dense\n",
        "from keras.layers import Dropout\n",
        "from keras.layers import Flatten\n",
        "from keras.layers.convolutional import Conv2D\n",
        "from keras.layers.convolutional import MaxPooling2D\n",
        "from keras.utils import np_utils\n",
        "from keras import backend as K\n"
      ],
      "execution_count": 3,
      "outputs": [
        {
          "output_type": "stream",
          "text": [
            "Using TensorFlow backend.\n"
          ],
          "name": "stderr"
        }
      ]
    },
    {
      "metadata": {
        "id": "6MA3dcDumk0r",
        "colab_type": "code",
        "colab": {
          "base_uri": "https://localhost:8080/",
          "height": 453
        },
        "outputId": "53fdf47f-092c-4f7a-d689-22889d3f2e8c"
      },
      "cell_type": "code",
      "source": [
        "# Set dimension ordering convention \n",
        "K.set_image_dim_ordering('th')\n",
        "seed = 5\n",
        "numpy.random.seed(seed)\n",
        "\n",
        "# load data\n",
        "(X_train, y_train), (X_test, y_test) = mnist.load_data()\n",
        "\n",
        "# Training set description\n",
        "sns.set(style=\"darkgrid\")\n",
        "sns.countplot(y_train)"
      ],
      "execution_count": 4,
      "outputs": [
        {
          "output_type": "stream",
          "text": [
            "Downloading data from https://s3.amazonaws.com/img-datasets/mnist.npz\n",
            "11493376/11490434 [==============================] - 0s 0us/step\n"
          ],
          "name": "stdout"
        },
        {
          "output_type": "stream",
          "text": [
            "/usr/local/lib/python3.6/dist-packages/seaborn/categorical.py:1428: FutureWarning: remove_na is deprecated and is a private function. Do not use.\n",
            "  cat_pos = np.ones(swarm_data.size) * center\n"
          ],
          "name": "stderr"
        },
        {
          "output_type": "execute_result",
          "data": {
            "text/plain": [
              "<matplotlib.axes._subplots.AxesSubplot at 0x7f24b9e25748>"
            ]
          },
          "metadata": {
            "tags": []
          },
          "execution_count": 4
        },
        {
          "output_type": "display_data",
          "data": {
            "image/png": "[encoded data removed]",
            "text/plain": [
              "<Figure size 576x396 with 1 Axes>"
            ]
          },
          "metadata": {
            "tags": []
          }
        }
      ]
    },
    {
      "metadata": {
        "id": "PLj5EtzzmtBq",
        "colab_type": "code",
        "colab": {}
      },
      "cell_type": "code",
      "source": [
        "# Reshape as (channel, width, height)\n",
        "X_train = X_train.reshape(X_train.shape[0], 1, 28, 28).astype('float32')\n",
        "X_test = X_test.reshape(X_test.shape[0], 1, 28, 28).astype('float32')\n",
        "\n",
        "# Inputs normalizations\n",
        "X_train = X_train / 255\n",
        "X_test = X_test / 255"
      ],
      "execution_count": 0,
      "outputs": []
    },
    {
      "metadata": {
        "id": "p9w969MOmvnT",
        "colab_type": "code",
        "colab": {
          "base_uri": "https://localhost:8080/",
          "height": 364
        },
        "outputId": "c7e54188-f6fd-4f6c-e01b-052740ca6601"
      },
      "cell_type": "code",
      "source": [
        "y_train = np_utils.to_categorical(y_train)\n",
        "y_test = np_utils.to_categorical(y_test)\n",
        "num_classes = y_test.shape[1]\n",
        "\n",
        "plt.imshow(X_train[0][0,:,:], cmap=plt.get_cmap('gray'))"
      ],
      "execution_count": 6,
      "outputs": [
        {
          "output_type": "execute_result",
          "data": {
            "text/plain": [
              "<matplotlib.image.AxesImage at 0x7f24b70e97f0>"
            ]
          },
          "metadata": {
            "tags": []
          },
          "execution_count": 6
        },
        {
          "output_type": "display_data",
          "data": {
            "image/png": "[encoded data removed]",
            "text/plain": [
              "<Figure size 576x396 with 1 Axes>"
            ]
          },
          "metadata": {
            "tags": []
          }
        }
      ]
    },
    {
      "metadata": {
        "id": "s1JoKksOm8yQ",
        "colab_type": "code",
        "colab": {}
      },
      "cell_type": "code",
      "source": [
        "model = Sequential()\n",
        "\n",
        "model.add(Conv2D(30, (5, 5), input_shape=(1, 28, 28), activation='relu'))\n",
        "model.add(MaxPooling2D(pool_size=(2, 2)))\n",
        "\n",
        "model.add(Conv2D(15, (3, 3), activation='relu'))\n",
        "model.add(MaxPooling2D(pool_size=(2, 2)))\n",
        "model.add(Dropout(0.25))\n",
        "model.add(Flatten())\n",
        "\n",
        "model.add(Dense(128, activation='relu'))\n",
        "model.add(Dense(50, activation='relu'))\n",
        "model.add(Dense(num_classes, activation='softmax'))\n",
        "\n",
        "model.compile(loss='categorical_crossentropy', optimizer='adam', metrics=['accuracy'])"
      ],
      "execution_count": 0,
      "outputs": []
    },
    {
      "metadata": {
        "id": "juzj9f1nnBgK",
        "colab_type": "code",
        "colab": {
          "base_uri": "https://localhost:8080/",
          "height": 2618
        },
        "outputId": "cdb59e1c-f2e4-448c-a76e-f08d6add3131"
      },
      "cell_type": "code",
      "source": [
        "# Fit the model\n",
        "history = model.fit(X_train, y_train, validation_data=(X_test, y_test), epochs=100, batch_size=200)\n",
        "\n",
        "# Evaluate the model \n",
        "scores = model.evaluate(X_test, y_test, verbose=0)\n",
        "print(\"CNN Error: %.2f%%\" % (100-scores[1]*100))\n",
        "\n",
        "model.save('model.h5')\n"
      ],
      "execution_count": 0,
      "outputs": [
        {
          "output_type": "stream",
          "text": [
            "Train on 60000 samples, validate on 10000 samples\n",
            "Epoch 1/100\n",
            "60000/60000 [==============================] - 4s 63us/step - loss: 0.0186 - acc: 0.9934 - val_loss: 0.0354 - val_acc: 0.9902\n",
            "Epoch 2/100\n",
            "60000/60000 [==============================] - 4s 62us/step - loss: 0.0166 - acc: 0.9946 - val_loss: 0.0280 - val_acc: 0.9924\n",
            "Epoch 3/100\n",
            "60000/60000 [==============================] - 4s 63us/step - loss: 0.0170 - acc: 0.9939 - val_loss: 0.0283 - val_acc: 0.9919\n",
            "Epoch 4/100\n",
            "60000/60000 [==============================] - 4s 62us/step - loss: 0.0173 - acc: 0.9942 - val_loss: 0.0240 - val_acc: 0.9927\n",
            "Epoch 5/100\n",
            "60000/60000 [==============================] - 4s 63us/step - loss: 0.0147 - acc: 0.9953 - val_loss: 0.0270 - val_acc: 0.9930\n",
            "Epoch 6/100\n",
            "60000/60000 [==============================] - 4s 63us/step - loss: 0.0156 - acc: 0.9948 - val_loss: 0.0265 - val_acc: 0.9928\n",
            "Epoch 7/100\n",
            "60000/60000 [==============================] - 4s 62us/step - loss: 0.0155 - acc: 0.9944 - val_loss: 0.0289 - val_acc: 0.9920\n",
            "Epoch 8/100\n",
            "60000/60000 [==============================] - 4s 62us/step - loss: 0.0124 - acc: 0.9955 - val_loss: 0.0258 - val_acc: 0.9930\n",
            "Epoch 9/100\n",
            "60000/60000 [==============================] - 4s 62us/step - loss: 0.0135 - acc: 0.9953 - val_loss: 0.0289 - val_acc: 0.9922\n",
            "Epoch 10/100\n",
            "60000/60000 [==============================] - 4s 62us/step - loss: 0.0125 - acc: 0.9955 - val_loss: 0.0308 - val_acc: 0.9918\n",
            "Epoch 11/100\n",
            "60000/60000 [==============================] - 4s 63us/step - loss: 0.0136 - acc: 0.9954 - val_loss: 0.0284 - val_acc: 0.9928\n",
            "Epoch 12/100\n",
            "60000/60000 [==============================] - 4s 62us/step - loss: 0.0129 - acc: 0.9955 - val_loss: 0.0291 - val_acc: 0.9926\n",
            "Epoch 13/100\n",
            "60000/60000 [==============================] - 4s 62us/step - loss: 0.0123 - acc: 0.9961 - val_loss: 0.0277 - val_acc: 0.9917\n",
            "Epoch 14/100\n",
            "60000/60000 [==============================] - 4s 62us/step - loss: 0.0131 - acc: 0.9953 - val_loss: 0.0271 - val_acc: 0.9926\n",
            "Epoch 15/100\n",
            "60000/60000 [==============================] - 4s 63us/step - loss: 0.0115 - acc: 0.9961 - val_loss: 0.0231 - val_acc: 0.9926\n",
            "Epoch 16/100\n",
            "60000/60000 [==============================] - 4s 64us/step - loss: 0.0106 - acc: 0.9965 - val_loss: 0.0264 - val_acc: 0.9932\n",
            "Epoch 17/100\n",
            "60000/60000 [==============================] - 4s 62us/step - loss: 0.0112 - acc: 0.9960 - val_loss: 0.0270 - val_acc: 0.9935\n",
            "Epoch 18/100\n",
            "60000/60000 [==============================] - 4s 63us/step - loss: 0.0112 - acc: 0.9961 - val_loss: 0.0288 - val_acc: 0.9926\n",
            "Epoch 19/100\n",
            "60000/60000 [==============================] - 4s 63us/step - loss: 0.0095 - acc: 0.9970 - val_loss: 0.0268 - val_acc: 0.9935\n",
            "Epoch 20/100\n",
            "60000/60000 [==============================] - 4s 62us/step - loss: 0.0111 - acc: 0.9965 - val_loss: 0.0281 - val_acc: 0.9933\n",
            "Epoch 21/100\n",
            "60000/60000 [==============================] - 4s 62us/step - loss: 0.0104 - acc: 0.9965 - val_loss: 0.0255 - val_acc: 0.9933\n",
            "Epoch 22/100\n",
            "60000/60000 [==============================] - 4s 62us/step - loss: 0.0091 - acc: 0.9968 - val_loss: 0.0287 - val_acc: 0.9927\n",
            "Epoch 23/100\n",
            "60000/60000 [==============================] - 4s 62us/step - loss: 0.0105 - acc: 0.9964 - val_loss: 0.0289 - val_acc: 0.9923\n",
            "Epoch 24/100\n",
            "60000/60000 [==============================] - 4s 62us/step - loss: 0.0087 - acc: 0.9970 - val_loss: 0.0334 - val_acc: 0.9922\n",
            "Epoch 25/100\n",
            "60000/60000 [==============================] - 4s 62us/step - loss: 0.0090 - acc: 0.9969 - val_loss: 0.0312 - val_acc: 0.9923\n",
            "Epoch 26/100\n",
            "60000/60000 [==============================] - 4s 63us/step - loss: 0.0087 - acc: 0.9972 - val_loss: 0.0289 - val_acc: 0.9939\n",
            "Epoch 27/100\n",
            "60000/60000 [==============================] - 4s 63us/step - loss: 0.0094 - acc: 0.9967 - val_loss: 0.0324 - val_acc: 0.9920\n",
            "Epoch 28/100\n",
            "60000/60000 [==============================] - 4s 63us/step - loss: 0.0096 - acc: 0.9968 - val_loss: 0.0295 - val_acc: 0.9924\n",
            "Epoch 29/100\n",
            "60000/60000 [==============================] - 4s 63us/step - loss: 0.0089 - acc: 0.9970 - val_loss: 0.0308 - val_acc: 0.9932\n",
            "Epoch 30/100\n",
            "60000/60000 [==============================] - 4s 62us/step - loss: 0.0089 - acc: 0.9969 - val_loss: 0.0277 - val_acc: 0.9934\n",
            "Epoch 31/100\n",
            "60000/60000 [==============================] - 4s 63us/step - loss: 0.0089 - acc: 0.9970 - val_loss: 0.0329 - val_acc: 0.9921\n",
            "Epoch 32/100\n",
            "60000/60000 [==============================] - 4s 63us/step - loss: 0.0078 - acc: 0.9974 - val_loss: 0.0291 - val_acc: 0.9939\n",
            "Epoch 33/100\n",
            "60000/60000 [==============================] - 4s 63us/step - loss: 0.0082 - acc: 0.9973 - val_loss: 0.0283 - val_acc: 0.9935\n",
            "Epoch 34/100\n",
            "60000/60000 [==============================] - 4s 63us/step - loss: 0.0088 - acc: 0.9969 - val_loss: 0.0304 - val_acc: 0.9938\n",
            "Epoch 35/100\n",
            "60000/60000 [==============================] - 4s 63us/step - loss: 0.0087 - acc: 0.9970 - val_loss: 0.0303 - val_acc: 0.9924\n",
            "Epoch 36/100\n",
            "60000/60000 [==============================] - 4s 63us/step - loss: 0.0070 - acc: 0.9976 - val_loss: 0.0307 - val_acc: 0.9938\n",
            "Epoch 37/100\n",
            "60000/60000 [==============================] - 4s 63us/step - loss: 0.0083 - acc: 0.9973 - val_loss: 0.0279 - val_acc: 0.9938\n",
            "Epoch 38/100\n",
            "60000/60000 [==============================] - 4s 63us/step - loss: 0.0076 - acc: 0.9976 - val_loss: 0.0288 - val_acc: 0.9925\n",
            "Epoch 39/100\n",
            "60000/60000 [==============================] - 4s 64us/step - loss: 0.0082 - acc: 0.9973 - val_loss: 0.0281 - val_acc: 0.9926\n",
            "Epoch 40/100\n",
            "60000/60000 [==============================] - 4s 63us/step - loss: 0.0066 - acc: 0.9977 - val_loss: 0.0322 - val_acc: 0.9926\n",
            "Epoch 41/100\n",
            "60000/60000 [==============================] - 4s 63us/step - loss: 0.0074 - acc: 0.9974 - val_loss: 0.0319 - val_acc: 0.9928\n",
            "Epoch 42/100\n",
            "60000/60000 [==============================] - 4s 65us/step - loss: 0.0087 - acc: 0.9971 - val_loss: 0.0320 - val_acc: 0.9920\n",
            "Epoch 43/100\n",
            "60000/60000 [==============================] - 4s 65us/step - loss: 0.0067 - acc: 0.9980 - val_loss: 0.0330 - val_acc: 0.9919\n",
            "Epoch 44/100\n",
            "60000/60000 [==============================] - 4s 64us/step - loss: 0.0097 - acc: 0.9967 - val_loss: 0.0297 - val_acc: 0.9932\n",
            "Epoch 45/100\n",
            "60000/60000 [==============================] - 4s 64us/step - loss: 0.0061 - acc: 0.9979 - val_loss: 0.0295 - val_acc: 0.9934\n",
            "Epoch 46/100\n",
            "60000/60000 [==============================] - 4s 64us/step - loss: 0.0078 - acc: 0.9975 - val_loss: 0.0274 - val_acc: 0.9931\n",
            "Epoch 47/100\n",
            "60000/60000 [==============================] - 4s 65us/step - loss: 0.0066 - acc: 0.9977 - val_loss: 0.0294 - val_acc: 0.9925\n",
            "Epoch 48/100\n",
            "60000/60000 [==============================] - 4s 65us/step - loss: 0.0065 - acc: 0.9977 - val_loss: 0.0305 - val_acc: 0.9940\n",
            "Epoch 49/100\n",
            "60000/60000 [==============================] - 4s 63us/step - loss: 0.0074 - acc: 0.9977 - val_loss: 0.0297 - val_acc: 0.9923\n",
            "Epoch 50/100\n",
            "60000/60000 [==============================] - 4s 63us/step - loss: 0.0058 - acc: 0.9978 - val_loss: 0.0304 - val_acc: 0.9928\n",
            "Epoch 51/100\n",
            "60000/60000 [==============================] - 4s 63us/step - loss: 0.0071 - acc: 0.9978 - val_loss: 0.0294 - val_acc: 0.9932\n",
            "Epoch 52/100\n",
            "60000/60000 [==============================] - 4s 64us/step - loss: 0.0074 - acc: 0.9975 - val_loss: 0.0295 - val_acc: 0.9935\n",
            "Epoch 53/100\n",
            "60000/60000 [==============================] - 4s 64us/step - loss: 0.0073 - acc: 0.9975 - val_loss: 0.0264 - val_acc: 0.9936\n",
            "Epoch 54/100\n",
            "60000/60000 [==============================] - 4s 64us/step - loss: 0.0057 - acc: 0.9980 - val_loss: 0.0279 - val_acc: 0.9933\n",
            "Epoch 55/100\n",
            "60000/60000 [==============================] - 4s 63us/step - loss: 0.0070 - acc: 0.9976 - val_loss: 0.0264 - val_acc: 0.9929\n",
            "Epoch 56/100\n",
            "60000/60000 [==============================] - 4s 63us/step - loss: 0.0061 - acc: 0.9981 - val_loss: 0.0313 - val_acc: 0.9927\n",
            "Epoch 57/100\n",
            "60000/60000 [==============================] - 4s 63us/step - loss: 0.0069 - acc: 0.9978 - val_loss: 0.0274 - val_acc: 0.9932\n",
            "Epoch 58/100\n",
            "60000/60000 [==============================] - 4s 64us/step - loss: 0.0069 - acc: 0.9980 - val_loss: 0.0321 - val_acc: 0.9924\n",
            "Epoch 59/100\n",
            "60000/60000 [==============================] - 4s 63us/step - loss: 0.0068 - acc: 0.9977 - val_loss: 0.0270 - val_acc: 0.9937\n",
            "Epoch 60/100\n",
            "60000/60000 [==============================] - 4s 63us/step - loss: 0.0056 - acc: 0.9980 - val_loss: 0.0292 - val_acc: 0.9933\n",
            "Epoch 61/100\n",
            "60000/60000 [==============================] - 4s 63us/step - loss: 0.0066 - acc: 0.9979 - val_loss: 0.0288 - val_acc: 0.9927\n",
            "Epoch 62/100\n",
            "60000/60000 [==============================] - 4s 63us/step - loss: 0.0060 - acc: 0.9982 - val_loss: 0.0280 - val_acc: 0.9928\n",
            "Epoch 63/100\n",
            "60000/60000 [==============================] - 4s 63us/step - loss: 0.0059 - acc: 0.9980 - val_loss: 0.0299 - val_acc: 0.9934\n",
            "Epoch 64/100\n",
            "60000/60000 [==============================] - 4s 63us/step - loss: 0.0061 - acc: 0.9980 - val_loss: 0.0273 - val_acc: 0.9939\n",
            "Epoch 65/100\n",
            "60000/60000 [==============================] - 4s 63us/step - loss: 0.0059 - acc: 0.9981 - val_loss: 0.0266 - val_acc: 0.9936\n",
            "Epoch 66/100\n",
            "60000/60000 [==============================] - 4s 64us/step - loss: 0.0069 - acc: 0.9981 - val_loss: 0.0276 - val_acc: 0.9938\n",
            "Epoch 67/100\n",
            "60000/60000 [==============================] - 4s 63us/step - loss: 0.0054 - acc: 0.9983 - val_loss: 0.0271 - val_acc: 0.9940\n",
            "Epoch 68/100\n",
            "60000/60000 [==============================] - 4s 63us/step - loss: 0.0045 - acc: 0.9986 - val_loss: 0.0293 - val_acc: 0.9943\n",
            "Epoch 69/100\n",
            "60000/60000 [==============================] - 4s 62us/step - loss: 0.0055 - acc: 0.9984 - val_loss: 0.0323 - val_acc: 0.9933\n",
            "Epoch 70/100\n",
            "60000/60000 [==============================] - 4s 63us/step - loss: 0.0050 - acc: 0.9983 - val_loss: 0.0323 - val_acc: 0.9921\n",
            "Epoch 71/100\n",
            "60000/60000 [==============================] - 4s 62us/step - loss: 0.0052 - acc: 0.9982 - val_loss: 0.0299 - val_acc: 0.9936\n",
            "Epoch 72/100\n",
            "60000/60000 [==============================] - 4s 62us/step - loss: 0.0065 - acc: 0.9977 - val_loss: 0.0311 - val_acc: 0.9924\n",
            "Epoch 73/100\n",
            "60000/60000 [==============================] - 4s 62us/step - loss: 0.0049 - acc: 0.9984 - val_loss: 0.0245 - val_acc: 0.9934\n",
            "Epoch 74/100\n",
            "60000/60000 [==============================] - 4s 63us/step - loss: 0.0048 - acc: 0.9984 - val_loss: 0.0277 - val_acc: 0.9928\n",
            "Epoch 75/100\n",
            "60000/60000 [==============================] - 4s 62us/step - loss: 0.0066 - acc: 0.9978 - val_loss: 0.0312 - val_acc: 0.9934\n",
            "Epoch 76/100\n",
            "34800/60000 [================>.............] - ETA: 1s - loss: 0.0037 - acc: 0.9986"
          ],
          "name": "stdout"
        }
      ]
    }
  ]
}