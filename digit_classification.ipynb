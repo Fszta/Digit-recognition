{
  "nbformat": 4,
  "nbformat_minor": 0,
  "metadata": {
    "colab": {
      "name": "digit_classification.ipynb",
      "version": "0.3.2",
      "provenance": [],
      "collapsed_sections": []
    },
    "kernelspec": {
      "name": "python3",
      "display_name": "Python 3"
    },
    "accelerator": "GPU"
  },
  "cells": [
    {
      "metadata": {
        "id": "begGKiBolEtt",
        "colab_type": "code",
        "colab": {}
      },
      "cell_type": "code",
      "source": [
        "import numpy as np\n",
        "import seaborn as sns\n",
        "import matplotlib.pyplot as plt\n",
        "from keras.datasets import mnist\n",
        "from keras.models import Sequential\n",
        "from keras.layers import Flatten\n",
        "from keras.layers.convolutional import Conv2D\n",
        "from keras.layers.convolutional import MaxPooling2D\n",
        "from keras.utils import np_utils\n",
        "from keras import backend as K\n",
        "from keras import optimizers\n",
        "from keras.layers import Dense, Dropout\n",
        "from keras.layers.normalization import BatchNormalization"
      ],
      "execution_count": 0,
      "outputs": []
    },
    {
      "metadata": {
        "id": "6MA3dcDumk0r",
        "colab_type": "code",
        "outputId": "6ec79a47-ede1-4486-88d1-308ed90ed3fc",
        "colab": {
          "base_uri": "https://localhost:8080/",
          "height": 433
        }
      },
      "cell_type": "code",
      "source": [
        "# Set dimension ordering convention \n",
        "K.set_image_dim_ordering('th')\n",
        "seed = 5\n",
        "numpy.random.seed(seed)\n",
        "\n",
        "# load data from keras datasets\n",
        "(X_train, y_train), (X_test, y_test) = mnist.load_data()\n",
        "\n",
        "# Training set description\n",
        "sns.set(style=\"darkgrid\")\n",
        "sns.countplot(y_train)"
      ],
      "execution_count": 2,
      "outputs": [
        {
          "output_type": "stream",
          "text": [
            "Downloading data from https://s3.amazonaws.com/img-datasets/mnist.npz\n",
            "11493376/11490434 [==============================] - 2s 0us/step\n"
          ],
          "name": "stdout"
        },
        {
          "output_type": "stream",
          "text": [
            "/usr/local/lib/python3.6/dist-packages/seaborn/categorical.py:1428: FutureWarning: remove_na is deprecated and is a private function. Do not use.\n",
            "  stat_data = remove_na(group_data)\n"
          ],
          "name": "stderr"
        },
        {
          "output_type": "execute_result",
          "data": {
            "text/plain": [
              "<matplotlib.axes._subplots.AxesSubplot at 0x7fe50439bb00>"
            ]
          },
          "metadata": {
            "tags": []
          },
          "execution_count": 2
        },
        {
          "output_type": "display_data",
          "data": {
            "image/png": "[encoded data removed]",
            "text/plain": [
              "<Figure size 576x396 with 1 Axes>"
            ]
          },
          "metadata": {
            "tags": []
          }
        }
      ]
    },
    {
      "metadata": {
        "id": "PLj5EtzzmtBq",
        "colab_type": "code",
        "colab": {}
      },
      "cell_type": "code",
      "source": [
        "# Reshape as (channel, width, height)\n",
        "X_train = X_train.reshape(X_train.shape[0], 1, 28, 28).astype('float32')\n",
        "X_test = X_test.reshape(X_test.shape[0], 1, 28, 28).astype('float32')\n",
        "\n",
        "# Normalization \n",
        "X_train = X_train / 255\n",
        "X_test = X_test / 255"
      ],
      "execution_count": 0,
      "outputs": []
    },
    {
      "metadata": {
        "id": "p9w969MOmvnT",
        "colab_type": "code",
        "outputId": "81649ffc-97e5-4902-e3dd-9ac2cd0e1dd4",
        "colab": {
          "base_uri": "https://localhost:8080/",
          "height": 364
        }
      },
      "cell_type": "code",
      "source": [
        "y_train = np_utils.to_categorical(y_train)\n",
        "y_test = np_utils.to_categorical(y_test)\n",
        "num_classes = y_test.shape[1]\n",
        "\n",
        "plt.imshow(X_train[0][0,:,:], cmap=plt.get_cmap('gray'))"
      ],
      "execution_count": 5,
      "outputs": [
        {
          "output_type": "execute_result",
          "data": {
            "text/plain": [
              "<matplotlib.image.AxesImage at 0x7fe501baff28>"
            ]
          },
          "metadata": {
            "tags": []
          },
          "execution_count": 5
        },
        {
          "output_type": "display_data",
          "data": {
            "image/png": "[encoded data removed]",
            "text/plain": [
              "<Figure size 576x396 with 1 Axes>"
            ]
          },
          "metadata": {
            "tags": []
          }
        }
      ]
    },
    {
      "metadata": {
        "id": "s1JoKksOm8yQ",
        "colab_type": "code",
        "colab": {}
      },
      "cell_type": "code",
      "source": [
        "model = Sequential()\n",
        "\n",
        "model.add(Conv2D(30, (5, 5), input_shape=(1, 28, 28), activation='relu'))\n",
        "model.add(MaxPooling2D(pool_size=(2, 2)))\n",
        "\n",
        "model.add(Conv2D(15, (3, 3), activation='relu'))\n",
        "model.add(MaxPooling2D(pool_size=(2, 2)))\n",
        "model.add(Dropout(0.25))\n",
        "model.add(Flatten())\n",
        "\n",
        "model.add(Dense(128, activation='relu'))\n",
        "model.add(Dense(50, activation='relu'))\n",
        "model.add(Dense(num_classes, activation='softmax'))\n",
        "\n",
        "model.compile(loss='categorical_crossentropy', optimizer='adam', metrics=['accuracy'])"
      ],
      "execution_count": 0,
      "outputs": []
    },
    {
      "metadata": {
        "id": "juzj9f1nnBgK",
        "colab_type": "code",
        "outputId": "1cfc3122-e39b-4347-ef51-2ea3ec120134",
        "colab": {
          "base_uri": "https://localhost:8080/",
          "height": 3451
        }
      },
      "cell_type": "code",
      "source": [
        "# Fit the model \n",
        "history = model.fit(X_train, y_train, validation_data=(X_test, y_test), epochs=100, batch_size=300)\n",
        "\n",
        "# Evaluate the model \n",
        "scores = model.evaluate(X_test, y_test, verbose=0)\n",
        "print(\"CNN Error: %.2f%%\" % (100-scores[1]*100))\n",
        "\n",
        "# Save the model\n",
        "model.save('model.h5')\n"
      ],
      "execution_count": 7,
      "outputs": [
        {
          "output_type": "stream",
          "text": [
            "Train on 60000 samples, validate on 10000 samples\n",
            "Epoch 1/100\n",
            "60000/60000 [==============================] - 8s 135us/step - loss: 1.6313 - acc: 0.4251 - val_loss: 0.6562 - val_acc: 0.7991\n",
            "Epoch 2/100\n",
            "60000/60000 [==============================] - 6s 99us/step - loss: 0.6255 - acc: 0.7989 - val_loss: 0.3960 - val_acc: 0.8791\n",
            "Epoch 3/100\n",
            "60000/60000 [==============================] - 6s 100us/step - loss: 0.4428 - acc: 0.8602 - val_loss: 0.2862 - val_acc: 0.9124\n",
            "Epoch 4/100\n",
            "60000/60000 [==============================] - 6s 101us/step - loss: 0.3497 - acc: 0.8896 - val_loss: 0.2225 - val_acc: 0.9337\n",
            "Epoch 5/100\n",
            "60000/60000 [==============================] - 6s 96us/step - loss: 0.2842 - acc: 0.9121 - val_loss: 0.1783 - val_acc: 0.9471\n",
            "Epoch 6/100\n",
            "60000/60000 [==============================] - 6s 98us/step - loss: 0.2447 - acc: 0.9242 - val_loss: 0.1506 - val_acc: 0.9543\n",
            "Epoch 7/100\n",
            "60000/60000 [==============================] - 6s 99us/step - loss: 0.2162 - acc: 0.9319 - val_loss: 0.1322 - val_acc: 0.9609\n",
            "Epoch 8/100\n",
            "60000/60000 [==============================] - 6s 99us/step - loss: 0.1915 - acc: 0.9399 - val_loss: 0.1145 - val_acc: 0.9648\n",
            "Epoch 9/100\n",
            "60000/60000 [==============================] - 6s 99us/step - loss: 0.1760 - acc: 0.9451 - val_loss: 0.1018 - val_acc: 0.9684\n",
            "Epoch 10/100\n",
            "60000/60000 [==============================] - 6s 104us/step - loss: 0.1613 - acc: 0.9494 - val_loss: 0.0948 - val_acc: 0.9707\n",
            "Epoch 11/100\n",
            "60000/60000 [==============================] - 6s 101us/step - loss: 0.1483 - acc: 0.9525 - val_loss: 0.0875 - val_acc: 0.9719\n",
            "Epoch 12/100\n",
            "60000/60000 [==============================] - 6s 100us/step - loss: 0.1406 - acc: 0.9554 - val_loss: 0.0836 - val_acc: 0.9742\n",
            "Epoch 13/100\n",
            "60000/60000 [==============================] - 6s 102us/step - loss: 0.1319 - acc: 0.9584 - val_loss: 0.0774 - val_acc: 0.9745\n",
            "Epoch 14/100\n",
            "60000/60000 [==============================] - 6s 102us/step - loss: 0.1223 - acc: 0.9607 - val_loss: 0.0708 - val_acc: 0.9765\n",
            "Epoch 15/100\n",
            "60000/60000 [==============================] - 6s 102us/step - loss: 0.1171 - acc: 0.9631 - val_loss: 0.0704 - val_acc: 0.9761\n",
            "Epoch 16/100\n",
            "60000/60000 [==============================] - 6s 100us/step - loss: 0.1103 - acc: 0.9654 - val_loss: 0.0661 - val_acc: 0.9783\n",
            "Epoch 17/100\n",
            "60000/60000 [==============================] - 6s 101us/step - loss: 0.1021 - acc: 0.9675 - val_loss: 0.0608 - val_acc: 0.9801\n",
            "Epoch 18/100\n",
            "60000/60000 [==============================] - 6s 100us/step - loss: 0.1015 - acc: 0.9680 - val_loss: 0.0578 - val_acc: 0.9808\n",
            "Epoch 19/100\n",
            "60000/60000 [==============================] - 6s 98us/step - loss: 0.0950 - acc: 0.9698 - val_loss: 0.0570 - val_acc: 0.9823\n",
            "Epoch 20/100\n",
            "60000/60000 [==============================] - 6s 99us/step - loss: 0.0922 - acc: 0.9707 - val_loss: 0.0517 - val_acc: 0.9829\n",
            "Epoch 21/100\n",
            "60000/60000 [==============================] - 6s 101us/step - loss: 0.0878 - acc: 0.9718 - val_loss: 0.0556 - val_acc: 0.9822\n",
            "Epoch 22/100\n",
            "60000/60000 [==============================] - 6s 99us/step - loss: 0.0845 - acc: 0.9740 - val_loss: 0.0484 - val_acc: 0.9849\n",
            "Epoch 23/100\n",
            "60000/60000 [==============================] - 6s 101us/step - loss: 0.0818 - acc: 0.9738 - val_loss: 0.0475 - val_acc: 0.9856\n",
            "Epoch 24/100\n",
            "60000/60000 [==============================] - 6s 101us/step - loss: 0.0781 - acc: 0.9754 - val_loss: 0.0452 - val_acc: 0.9858\n",
            "Epoch 25/100\n",
            "60000/60000 [==============================] - 6s 99us/step - loss: 0.0773 - acc: 0.9754 - val_loss: 0.0460 - val_acc: 0.9834\n",
            "Epoch 26/100\n",
            "60000/60000 [==============================] - 6s 99us/step - loss: 0.0748 - acc: 0.9760 - val_loss: 0.0417 - val_acc: 0.9858\n",
            "Epoch 27/100\n",
            "60000/60000 [==============================] - 6s 99us/step - loss: 0.0703 - acc: 0.9774 - val_loss: 0.0426 - val_acc: 0.9870\n",
            "Epoch 28/100\n",
            "60000/60000 [==============================] - 6s 98us/step - loss: 0.0696 - acc: 0.9777 - val_loss: 0.0406 - val_acc: 0.9870\n",
            "Epoch 29/100\n",
            "60000/60000 [==============================] - 6s 99us/step - loss: 0.0689 - acc: 0.9783 - val_loss: 0.0387 - val_acc: 0.9874\n",
            "Epoch 30/100\n",
            "60000/60000 [==============================] - 6s 99us/step - loss: 0.0670 - acc: 0.9787 - val_loss: 0.0391 - val_acc: 0.9869\n",
            "Epoch 31/100\n",
            "60000/60000 [==============================] - 6s 100us/step - loss: 0.0643 - acc: 0.9790 - val_loss: 0.0399 - val_acc: 0.9865\n",
            "Epoch 32/100\n",
            "60000/60000 [==============================] - 6s 99us/step - loss: 0.0621 - acc: 0.9803 - val_loss: 0.0379 - val_acc: 0.9874\n",
            "Epoch 33/100\n",
            "60000/60000 [==============================] - 6s 98us/step - loss: 0.0611 - acc: 0.9804 - val_loss: 0.0363 - val_acc: 0.9880\n",
            "Epoch 34/100\n",
            "60000/60000 [==============================] - 6s 101us/step - loss: 0.0590 - acc: 0.9811 - val_loss: 0.0335 - val_acc: 0.9899\n",
            "Epoch 35/100\n",
            "60000/60000 [==============================] - 6s 99us/step - loss: 0.0586 - acc: 0.9807 - val_loss: 0.0352 - val_acc: 0.9888\n",
            "Epoch 36/100\n",
            "60000/60000 [==============================] - 6s 100us/step - loss: 0.0570 - acc: 0.9820 - val_loss: 0.0354 - val_acc: 0.9887\n",
            "Epoch 37/100\n",
            "60000/60000 [==============================] - 6s 101us/step - loss: 0.0571 - acc: 0.9815 - val_loss: 0.0346 - val_acc: 0.9891\n",
            "Epoch 38/100\n",
            "60000/60000 [==============================] - 6s 102us/step - loss: 0.0524 - acc: 0.9827 - val_loss: 0.0347 - val_acc: 0.9894\n",
            "Epoch 39/100\n",
            "60000/60000 [==============================] - 6s 99us/step - loss: 0.0551 - acc: 0.9818 - val_loss: 0.0363 - val_acc: 0.9878\n",
            "Epoch 40/100\n",
            "60000/60000 [==============================] - 6s 99us/step - loss: 0.0521 - acc: 0.9830 - val_loss: 0.0343 - val_acc: 0.9889\n",
            "Epoch 41/100\n",
            "60000/60000 [==============================] - 6s 98us/step - loss: 0.0514 - acc: 0.9834 - val_loss: 0.0327 - val_acc: 0.9899\n",
            "Epoch 42/100\n",
            "60000/60000 [==============================] - 6s 97us/step - loss: 0.0500 - acc: 0.9836 - val_loss: 0.0324 - val_acc: 0.9900\n",
            "Epoch 43/100\n",
            "60000/60000 [==============================] - 6s 98us/step - loss: 0.0497 - acc: 0.9837 - val_loss: 0.0317 - val_acc: 0.9895\n",
            "Epoch 44/100\n",
            "60000/60000 [==============================] - 6s 100us/step - loss: 0.0488 - acc: 0.9842 - val_loss: 0.0329 - val_acc: 0.9895\n",
            "Epoch 45/100\n",
            "60000/60000 [==============================] - 6s 99us/step - loss: 0.0480 - acc: 0.9842 - val_loss: 0.0319 - val_acc: 0.9899\n",
            "Epoch 46/100\n",
            "60000/60000 [==============================] - 6s 100us/step - loss: 0.0477 - acc: 0.9844 - val_loss: 0.0311 - val_acc: 0.9903\n",
            "Epoch 47/100\n",
            "60000/60000 [==============================] - 6s 97us/step - loss: 0.0443 - acc: 0.9854 - val_loss: 0.0321 - val_acc: 0.9899\n",
            "Epoch 48/100\n",
            "60000/60000 [==============================] - 6s 98us/step - loss: 0.0444 - acc: 0.9861 - val_loss: 0.0315 - val_acc: 0.9902\n",
            "Epoch 49/100\n",
            "60000/60000 [==============================] - 6s 99us/step - loss: 0.0449 - acc: 0.9852 - val_loss: 0.0307 - val_acc: 0.9909\n",
            "Epoch 50/100\n",
            "60000/60000 [==============================] - 6s 98us/step - loss: 0.0433 - acc: 0.9859 - val_loss: 0.0329 - val_acc: 0.9889\n",
            "Epoch 51/100\n",
            "60000/60000 [==============================] - 6s 99us/step - loss: 0.0445 - acc: 0.9852 - val_loss: 0.0287 - val_acc: 0.9914\n",
            "Epoch 52/100\n",
            "60000/60000 [==============================] - 6s 99us/step - loss: 0.0424 - acc: 0.9860 - val_loss: 0.0300 - val_acc: 0.9899\n",
            "Epoch 53/100\n",
            "60000/60000 [==============================] - 6s 100us/step - loss: 0.0421 - acc: 0.9861 - val_loss: 0.0301 - val_acc: 0.9898\n",
            "Epoch 54/100\n",
            "60000/60000 [==============================] - 6s 98us/step - loss: 0.0404 - acc: 0.9869 - val_loss: 0.0307 - val_acc: 0.9895\n",
            "Epoch 55/100\n",
            "60000/60000 [==============================] - 6s 99us/step - loss: 0.0395 - acc: 0.9872 - val_loss: 0.0310 - val_acc: 0.9901\n",
            "Epoch 56/100\n",
            "60000/60000 [==============================] - 6s 99us/step - loss: 0.0397 - acc: 0.9865 - val_loss: 0.0323 - val_acc: 0.9894\n",
            "Epoch 57/100\n",
            "60000/60000 [==============================] - 6s 102us/step - loss: 0.0381 - acc: 0.9874 - val_loss: 0.0304 - val_acc: 0.9901\n",
            "Epoch 58/100\n",
            "60000/60000 [==============================] - 6s 101us/step - loss: 0.0383 - acc: 0.9869 - val_loss: 0.0286 - val_acc: 0.9906\n",
            "Epoch 59/100\n",
            "60000/60000 [==============================] - 6s 100us/step - loss: 0.0394 - acc: 0.9867 - val_loss: 0.0275 - val_acc: 0.9915\n",
            "Epoch 60/100\n",
            "60000/60000 [==============================] - 6s 101us/step - loss: 0.0357 - acc: 0.9879 - val_loss: 0.0324 - val_acc: 0.9891\n",
            "Epoch 61/100\n",
            "60000/60000 [==============================] - 6s 99us/step - loss: 0.0377 - acc: 0.9878 - val_loss: 0.0296 - val_acc: 0.9903\n",
            "Epoch 62/100\n",
            "60000/60000 [==============================] - 6s 100us/step - loss: 0.0361 - acc: 0.9878 - val_loss: 0.0290 - val_acc: 0.9911\n",
            "Epoch 63/100\n",
            "60000/60000 [==============================] - 6s 100us/step - loss: 0.0352 - acc: 0.9885 - val_loss: 0.0300 - val_acc: 0.9901\n",
            "Epoch 64/100\n",
            "60000/60000 [==============================] - 6s 100us/step - loss: 0.0359 - acc: 0.9878 - val_loss: 0.0296 - val_acc: 0.9902\n",
            "Epoch 65/100\n",
            "60000/60000 [==============================] - 6s 100us/step - loss: 0.0330 - acc: 0.9887 - val_loss: 0.0290 - val_acc: 0.9909\n",
            "Epoch 66/100\n",
            "60000/60000 [==============================] - 6s 98us/step - loss: 0.0334 - acc: 0.9889 - val_loss: 0.0308 - val_acc: 0.9903\n",
            "Epoch 67/100\n",
            "60000/60000 [==============================] - 6s 100us/step - loss: 0.0360 - acc: 0.9879 - val_loss: 0.0308 - val_acc: 0.9904\n",
            "Epoch 68/100\n",
            "60000/60000 [==============================] - 6s 100us/step - loss: 0.0330 - acc: 0.9893 - val_loss: 0.0278 - val_acc: 0.9905\n",
            "Epoch 69/100\n",
            "60000/60000 [==============================] - 6s 98us/step - loss: 0.0333 - acc: 0.9889 - val_loss: 0.0291 - val_acc: 0.9909\n",
            "Epoch 70/100\n",
            "60000/60000 [==============================] - 6s 99us/step - loss: 0.0327 - acc: 0.9888 - val_loss: 0.0292 - val_acc: 0.9903\n",
            "Epoch 71/100\n",
            "60000/60000 [==============================] - 6s 97us/step - loss: 0.0318 - acc: 0.9891 - val_loss: 0.0275 - val_acc: 0.9914\n",
            "Epoch 72/100\n",
            "60000/60000 [==============================] - 6s 99us/step - loss: 0.0325 - acc: 0.9889 - val_loss: 0.0283 - val_acc: 0.9914\n",
            "Epoch 73/100\n",
            "60000/60000 [==============================] - 6s 99us/step - loss: 0.0315 - acc: 0.9892 - val_loss: 0.0274 - val_acc: 0.9918\n",
            "Epoch 74/100\n",
            "60000/60000 [==============================] - 6s 100us/step - loss: 0.0315 - acc: 0.9897 - val_loss: 0.0301 - val_acc: 0.9905\n",
            "Epoch 75/100\n",
            "60000/60000 [==============================] - 6s 98us/step - loss: 0.0318 - acc: 0.9897 - val_loss: 0.0308 - val_acc: 0.9909\n",
            "Epoch 76/100\n",
            "60000/60000 [==============================] - 6s 99us/step - loss: 0.0316 - acc: 0.9888 - val_loss: 0.0324 - val_acc: 0.9904\n",
            "Epoch 77/100\n",
            "60000/60000 [==============================] - 6s 100us/step - loss: 0.0319 - acc: 0.9894 - val_loss: 0.0292 - val_acc: 0.9908\n",
            "Epoch 78/100\n",
            "60000/60000 [==============================] - 6s 101us/step - loss: 0.0300 - acc: 0.9899 - val_loss: 0.0323 - val_acc: 0.9908\n",
            "Epoch 79/100\n",
            "60000/60000 [==============================] - 6s 101us/step - loss: 0.0291 - acc: 0.9903 - val_loss: 0.0286 - val_acc: 0.9911\n",
            "Epoch 80/100\n",
            "60000/60000 [==============================] - 6s 100us/step - loss: 0.0283 - acc: 0.9908 - val_loss: 0.0301 - val_acc: 0.9910\n",
            "Epoch 81/100\n",
            "60000/60000 [==============================] - 6s 101us/step - loss: 0.0289 - acc: 0.9902 - val_loss: 0.0329 - val_acc: 0.9901\n",
            "Epoch 82/100\n",
            "60000/60000 [==============================] - 6s 99us/step - loss: 0.0287 - acc: 0.9901 - val_loss: 0.0301 - val_acc: 0.9909\n",
            "Epoch 83/100\n",
            "60000/60000 [==============================] - 6s 101us/step - loss: 0.0284 - acc: 0.9904 - val_loss: 0.0287 - val_acc: 0.9912\n",
            "Epoch 84/100\n",
            "60000/60000 [==============================] - 6s 103us/step - loss: 0.0273 - acc: 0.9906 - val_loss: 0.0305 - val_acc: 0.9912\n",
            "Epoch 85/100\n",
            "60000/60000 [==============================] - 6s 102us/step - loss: 0.0274 - acc: 0.9908 - val_loss: 0.0330 - val_acc: 0.9902\n",
            "Epoch 86/100\n",
            "60000/60000 [==============================] - 6s 100us/step - loss: 0.0267 - acc: 0.9908 - val_loss: 0.0296 - val_acc: 0.9910\n",
            "Epoch 87/100\n",
            "60000/60000 [==============================] - 6s 100us/step - loss: 0.0276 - acc: 0.9909 - val_loss: 0.0279 - val_acc: 0.9921\n",
            "Epoch 88/100\n",
            "60000/60000 [==============================] - 6s 98us/step - loss: 0.0274 - acc: 0.9906 - val_loss: 0.0266 - val_acc: 0.9920\n",
            "Epoch 89/100\n",
            "60000/60000 [==============================] - 6s 99us/step - loss: 0.0265 - acc: 0.9910 - val_loss: 0.0278 - val_acc: 0.9915\n",
            "Epoch 90/100\n",
            "60000/60000 [==============================] - 6s 99us/step - loss: 0.0264 - acc: 0.9908 - val_loss: 0.0272 - val_acc: 0.9910\n",
            "Epoch 91/100\n",
            "60000/60000 [==============================] - 6s 98us/step - loss: 0.0262 - acc: 0.9911 - val_loss: 0.0292 - val_acc: 0.9910\n",
            "Epoch 92/100\n",
            "60000/60000 [==============================] - 6s 98us/step - loss: 0.0262 - acc: 0.9912 - val_loss: 0.0315 - val_acc: 0.9901\n",
            "Epoch 93/100\n",
            "60000/60000 [==============================] - 6s 99us/step - loss: 0.0261 - acc: 0.9911 - val_loss: 0.0285 - val_acc: 0.9918\n",
            "Epoch 94/100\n",
            "60000/60000 [==============================] - 6s 99us/step - loss: 0.0246 - acc: 0.9914 - val_loss: 0.0294 - val_acc: 0.9901\n",
            "Epoch 95/100\n",
            "60000/60000 [==============================] - 6s 99us/step - loss: 0.0265 - acc: 0.9911 - val_loss: 0.0304 - val_acc: 0.9908\n",
            "Epoch 96/100\n",
            "60000/60000 [==============================] - 6s 99us/step - loss: 0.0248 - acc: 0.9916 - val_loss: 0.0297 - val_acc: 0.9905\n",
            "Epoch 97/100\n",
            "60000/60000 [==============================] - 6s 99us/step - loss: 0.0244 - acc: 0.9917 - val_loss: 0.0283 - val_acc: 0.9909\n",
            "Epoch 98/100\n",
            "60000/60000 [==============================] - 6s 99us/step - loss: 0.0243 - acc: 0.9917 - val_loss: 0.0297 - val_acc: 0.9903\n",
            "Epoch 99/100\n",
            "60000/60000 [==============================] - 6s 99us/step - loss: 0.0248 - acc: 0.9918 - val_loss: 0.0283 - val_acc: 0.9903\n",
            "Epoch 100/100\n",
            "60000/60000 [==============================] - 6s 99us/step - loss: 0.0240 - acc: 0.9921 - val_loss: 0.0299 - val_acc: 0.9904\n",
            "CNN Error: 0.96%\n"
          ],
          "name": "stdout"
        }
      ]
    },
    {
      "metadata": {
        "id": "_CV9jaFMSs6y",
        "colab_type": "code",
        "outputId": "d9763a06-b9cc-47ed-ca5a-e618622101a7",
        "colab": {
          "base_uri": "https://localhost:8080/",
          "height": 735
        }
      },
      "cell_type": "code",
      "source": [
        "\n",
        "# Summarize history for accuracy\n",
        "plt.plot(history.history['acc'])\n",
        "plt.plot(history.history['val_acc'])\n",
        "plt.title('model accuracy')\n",
        "plt.ylabel('accuracy')\n",
        "plt.xlabel('epoch')\n",
        "plt.legend(['train', 'test'], loc='upper left')\n",
        "plt.show()\n",
        "\n",
        "# Summarize history for loss\n",
        "plt.plot(history.history['loss'])\n",
        "plt.plot(history.history['val_loss'])\n",
        "plt.title('model loss')\n",
        "plt.ylabel('loss')\n",
        "plt.xlabel('epoch')\n",
        "plt.legend(['train', 'test'], loc='lower right')\n",
        "plt.show()"
      ],
      "execution_count": 8,
      "outputs": [
        {
          "output_type": "display_data",
          "data": {
            "image/png": "[encoded data removed]",
            "text/plain": [
              "<Figure size 576x396 with 1 Axes>"
            ]
          },
          "metadata": {
            "tags": []
          }
        },
        {
          "output_type": "display_data",
          "data": {
            "image/png": "[encoded data removed]",
            "text/plain": [
              "<Figure size 576x396 with 1 Axes>"
            ]
          },
          "metadata": {
            "tags": []
          }
        }
      ]
    }
  ]
}